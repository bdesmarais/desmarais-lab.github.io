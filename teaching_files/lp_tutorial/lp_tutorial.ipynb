{
 "cells": [
  {
   "cell_type": "markdown",
   "metadata": {},
   "source": [
    "# Link Prediction Tutorial using the LinkPred Library\n",
    "\n",
    "## Introduction\n",
    "Link prediction is a common task in network analysis where we aim to predict the presence or absence of links (edges) between nodes in a network. The LinkPred library in Python provides various algorithms and methods to perform link prediction on network data.\n",
    "\n",
    "In this tutorial, we will use the LinkPred library to predict the missing values in the adjacency matrix of the GirlsNA network dataset stored as a CSV file.\n",
    "\n",
    "## Prerequisites\n",
    "Before we begin, make sure you have the LinkPred library installed in your Python environment. You can install it using the following command:\n",
    "\n",
    "```python\n",
    "!pip install linkpred\n",
    "```\n",
    "\n",
    "## Importing the Required Libraries\n",
    "Let's start by importing the necessary libraries for this tutorial:\n",
    "\n",
    "```python\n",
    "import pandas as pd\n",
    "import networkx as nx\n",
    "import linkpred\n",
    "```\n"
   ]
  },
  {
   "cell_type": "code",
   "execution_count": null,
   "metadata": {},
   "outputs": [],
   "source": [
    "# Load the GirlsNA network dataset from the CSV file\n",
    "girlsna_df = pd.read_csv('GirlsNA.csv', index_col=0)\n",
    "\n",
    "# Display the first few rows of the dataset\n",
    "girlsna_df.head()"
   ]
  },
  {
   "cell_type": "code",
   "execution_count": null,
   "metadata": {},
   "outputs": [],
   "source": [
    "# Convert the GirlsNA dataset to a networkx graph object\n",
    "graph = nx.from_pandas_adjacency(girlsna_df)\n",
    "\n",
    "# Verify the graph object\n",
    "print(nx.info(graph))"
   ]
  },
  {
   "cell_type": "code",
   "execution_count": null,
   "metadata": {},
   "outputs": [],
   "source": [
    "# Create a LinkPred Predictor object\n",
    "predictor = linkpred.predictors.CommonNeighbours(graph)\n",
    "\n",
    "# Perform link prediction\n",
    "predictions = predictor.predict()"
   ]
  },
  {
   "cell_type": "code",
   "execution_count": null,
   "metadata": {},
   "outputs": [],
   "source": [
    "# Get the locations of missing values in the original dataset\n",
    "missing_locations = girlsna_df.isnull()\n",
    "\n",
    "# Extract the predicted links at the missing locations\n",
    "predicted_links = [(u, v) for (u, v, p) in predictions if missing_locations.loc[u, v]]\n",
    "\n",
    "# Display the predicted links\n",
    "predicted_links"
   ]
  },
  {
   "cell_type": "markdown",
   "metadata": {},
   "source": [
    "## Conclusion\n",
    "In this tutorial, we demonstrated how to perform link prediction on a network dataset stored as an adjacency matrix in a CSV file using the LinkPred library in Python.     We loaded the GirlsNA network dataset, prepared it as a networkx graph object, performed link prediction using the CommonNeighbours algorithm, and evaluated the predictions by comparing them with the missing values in the original dataset.

    You can further explore other link prediction algorithms available in the LinkPred library and experiment with different network datasets to gain more insights into link prediction tasks.
    ```
   ]
  },
  {
   "cell_type": "markdown",
   "metadata": {},
   "source": [
    "In this tutorial, we demonstrated how to perform link prediction on a network dataset stored as an adjacency matrix in a CSV file using the `LinkPred` library in Python. We loaded the `GirlsNA` network dataset, prepared it as a `networkx` graph object, performed link prediction using the `CommonNeighbours` algorithm, and evaluated the predictions by comparing them with the missing values in the original dataset.\n",
    "\n",
    "You can further explore other link prediction algorithms available in the `LinkPred` library and experiment with different network datasets to gain more insights into link prediction tasks."
   ]
  }
 ],
 "metadata": {
  "kernelspec": {
   "display_name": "Python 3",
   "language": "python",
   "name": "python3"
  },
  "language_info": {
   "codemirror_mode": {
    "name": "ipython",
    "version": 3
   },
   "file_extension": ".py",
   "mimetype": "text/x-python",
   "name": "python",
   "nbconvert_exporter": "python",
   "pygments_lexer": "ipython3",
   "version": "3.7.12"
  }
 },
 "nbformat": 4,
 "nbformat_minor": 5
}

